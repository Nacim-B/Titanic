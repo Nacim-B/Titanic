{
 "cells": [
  {
   "cell_type": "code",
   "execution_count": 41,
   "id": "9aa4924e",
   "metadata": {},
   "outputs": [],
   "source": [
    "import pandas as pd\n",
    "import seaborn as sns\n",
    "import matplotlib.pyplot as plt"
   ]
  },
  {
   "cell_type": "code",
   "execution_count": 42,
   "id": "62d14cf2",
   "metadata": {},
   "outputs": [],
   "source": [
    "titanic = sns.load_dataset('titanic')\n",
    "\n",
    "#clean the data set\n",
    "\n",
    "titanic = titanic[['survived','pclass','sex','age']]\n",
    "titanic.dropna(axis=0, inplace=True)\n",
    "titanic['sex'].replace(['male','female'],[0,1], inplace=True)"
   ]
  },
  {
   "cell_type": "code",
   "execution_count": 43,
   "id": "2224b9c3",
   "metadata": {},
   "outputs": [],
   "source": [
    "from sklearn.neighbors import KNeighborsClassifier\n",
    "\n",
    "#y keeps only the column survived\n",
    "y = titanic['survived']\n",
    "\n",
    "#x keeps every other columns\n",
    "x = titanic.drop('survived', axis=1)"
   ]
  },
  {
   "cell_type": "code",
   "execution_count": 45,
   "id": "95dcb8e0",
   "metadata": {},
   "outputs": [
    {
     "name": "stdout",
     "output_type": "stream",
     "text": [
      "3\n"
     ]
    },
    {
     "data": {
      "text/plain": [
       "[<matplotlib.lines.Line2D at 0x7fe29d837130>]"
      ]
     },
     "execution_count": 45,
     "metadata": {},
     "output_type": "execute_result"
    },
    {
     "data": {
      "image/png": "[encoded data removed]",
      "text/plain": [
       "<Figure size 432x288 with 1 Axes>"
      ]
     },
     "metadata": {
      "needs_background": "light"
     },
     "output_type": "display_data"
    }
   ],
   "source": [
    "#most optimized number of neighbors\n",
    "best_k = 1\n",
    "\n",
    "#prediction_score\n",
    "best_score = 0\n",
    "\n",
    "#all scores\n",
    "scores = []\n",
    "\n",
    "\n",
    "#test the prediction score from to 30 neighbors\n",
    "for k in range (best_k, 30):\n",
    "    \n",
    "    #creation of the classification model\n",
    "    model = KNeighborsClassifier(n_neighbors = k)\n",
    "    \n",
    "    #fit the model to x and y \n",
    "    model.fit(x,y)\n",
    "    \n",
    "    #add the prediciton score of the model to the list of all scores\n",
    "    scores.append(model.score(x,y))\n",
    "    \n",
    "    #if the new score is better than the previous best, it becomes the best_k\n",
    "    if best_score < model.score(x,y):\n",
    "        best_k = k\n",
    "        best_score = model.score(x,y)\n",
    "\n",
    "#print the more optimized number of neighbors        \n",
    "print(best_k)\n",
    "plt.plot(scores)"
   ]
  },
  {
   "cell_type": "code",
   "execution_count": null,
   "id": "5a8f7149",
   "metadata": {},
   "outputs": [],
   "source": []
  }
 ],
 "metadata": {
  "kernelspec": {
   "display_name": "Python 3 (ipykernel)",
   "language": "python",
   "name": "python3"
  },
  "language_info": {
   "codemirror_mode": {
    "name": "ipython",
    "version": 3
   },
   "file_extension": ".py",
   "mimetype": "text/x-python",
   "name": "python",
   "nbconvert_exporter": "python",
   "pygments_lexer": "ipython3",
   "version": "3.9.16"
  }
 },
 "nbformat": 4,
 "nbformat_minor": 5
}
